{
 "cells": [
  {
   "cell_type": "markdown",
   "metadata": {},
   "source": [
    "### Condicional"
   ]
  },
  {
   "cell_type": "code",
   "execution_count": 4,
   "metadata": {},
   "outputs": [
    {
     "name": "stdout",
     "output_type": "stream",
     "text": [
      "verdade\n"
     ]
    }
   ],
   "source": [
    "# If\n",
    "\n",
    "if 5 < 10:\n",
    "    print('verdade')"
   ]
  },
  {
   "cell_type": "code",
   "execution_count": 1,
   "metadata": {},
   "outputs": [
    {
     "name": "stdout",
     "output_type": "stream",
     "text": [
      "O num1 é o maior número\n"
     ]
    }
   ],
   "source": [
    "# If/else\n",
    "num1 = 10\n",
    "num2 = 5\n",
    "if num1 > num2:\n",
    "    print('O num1 é o maior número')\n",
    "else:\n",
    "    print('O num2 é o maior número')"
   ]
  },
  {
   "cell_type": "code",
   "execution_count": 3,
   "metadata": {},
   "outputs": [
    {
     "name": "stdout",
     "output_type": "stream",
     "text": [
      "Os dois são iguais\n"
     ]
    }
   ],
   "source": [
    "# If/else\n",
    "num1 = 10\n",
    "num2 = 10\n",
    "if num1 > num2:\n",
    "    print('O num1 é o maior número')\n",
    "elif num1 < num2:\n",
    "    print('O num2 é o maior número')\n",
    "else:\n",
    "    print('Os dois são iguais')"
   ]
  },
  {
   "cell_type": "markdown",
   "metadata": {},
   "source": [
    "### Condicional com operadores lógicos"
   ]
  },
  {
   "cell_type": "code",
   "execution_count": 5,
   "metadata": {},
   "outputs": [
    {
     "name": "stdout",
     "output_type": "stream",
     "text": [
      "O num1 é o maior número\n"
     ]
    }
   ],
   "source": [
    "num1 = 10\n",
    "num2 = 5\n",
    "num3 = 2\n",
    "if (num1 > num2) and (num1 > num3):\n",
    "    print('O num1 é o maior número')\n",
    "else:\n",
    "    print('O num1 não é o maior número')"
   ]
  },
  {
   "cell_type": "code",
   "execution_count": null,
   "metadata": {},
   "outputs": [],
   "source": []
  }
 ],
 "metadata": {
  "kernelspec": {
   "display_name": "Python 3",
   "language": "python",
   "name": "python3"
  },
  "language_info": {
   "codemirror_mode": {
    "name": "ipython",
    "version": 3
   },
   "file_extension": ".py",
   "mimetype": "text/x-python",
   "name": "python",
   "nbconvert_exporter": "python",
   "pygments_lexer": "ipython3",
   "version": "3.11.9"
  }
 },
 "nbformat": 4,
 "nbformat_minor": 2
}
